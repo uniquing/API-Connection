{
  "nbformat": 4,
  "nbformat_minor": 0,
  "metadata": {
    "colab": {
      "name": "WALMART API",
      "provenance": [],
      "authorship_tag": "ABX9TyOwbyREn0oX0zUon/1HwjXe",
      "include_colab_link": true
    },
    "kernelspec": {
      "name": "python3",
      "display_name": "Python 3"
    }
  },
  "cells": [
    {
      "cell_type": "markdown",
      "metadata": {
        "id": "view-in-github",
        "colab_type": "text"
      },
      "source": [
        "<a href=\"https://colab.research.google.com/github/uniquing/API-Connection/blob/main/WALMART_API.ipynb\" target=\"_parent\"><img src=\"https://colab.research.google.com/assets/colab-badge.svg\" alt=\"Open In Colab\"/></a>"
      ]
    },
    {
      "cell_type": "code",
      "metadata": {
        "id": "bJNaQdunbshy"
      },
      "source": [
        "import requests\n",
        "import json\n",
        "import pandas as pd\n",
        "import re\n",
        "import time\n",
        "import datetime\n",
        "import base64\n",
        "from requests.auth import HTTPBasicAuth"
      ],
      "execution_count": null,
      "outputs": []
    },
    {
      "cell_type": "markdown",
      "metadata": {
        "id": "xo56Fl07N1kj"
      },
      "source": [
        "### Get Token First\n"
      ]
    },
    {
      "cell_type": "code",
      "metadata": {
        "id": "aBEzgJQphdJ1"
      },
      "source": [
        "# Use to authorization(clientId:clientsecret)\n",
        "client_id=\"your id\"\n",
        "client_sec=\"your secert\"\n",
        "usrPass=client_id+\":\"+client_sec\n",
        "# Transform the code for authoriztion\n",
        "encoded_u = base64.b64encode(usrPass.encode()).decode()"
      ],
      "execution_count": null,
      "outputs": []
    },
    {
      "cell_type": "code",
      "metadata": {
        "id": "qhiOMFejZnKB"
      },
      "source": [
        "# The header pramas from API document\n",
        "HeaderParameters={\n",
        "    'Authorization' : \"Basic %s\" % encoded_u, #Should be the kind of 'Basic blablabla...' so use %s to concatenate\n",
        "    'Content-Type': 'application/x-www-form-urlencoded',\n",
        "    'Accept': 'application/json',\n",
        "    'WM_SVC.NAME': 'Walmart Marketplace',\n",
        "    'WM_QOS.CORRELATION_ID': '123456abcdef', #Could use any GUID or UUID\n",
        "    'WM_SVC.VERSION': '1.0.0'\n",
        "}"
      ],
      "execution_count": null,
      "outputs": []
    },
    {
      "cell_type": "code",
      "metadata": {
        "id": "SAQJWVXbb8UF",
        "outputId": "2cc630fd-5e0b-467a-dfcd-5946d525d432",
        "colab": {
          "base_uri": "https://localhost:8080/",
          "height": 35
        }
      },
      "source": [
        "# Get the token to access\n",
        "url='https://marketplace.walmartapis.com/v3/token'\n",
        "token_resp=requests.post(url,headers=HeaderParameters,data={\"grant_type\": \"client_credentials\"})\n",
        "token_resp.status_code"
      ],
      "execution_count": null,
      "outputs": [
        {
          "output_type": "execute_result",
          "data": {
            "text/plain": [
              "200"
            ]
          },
          "metadata": {
            "tags": []
          },
          "execution_count": 4
        }
      ]
    },
    {
      "cell_type": "markdown",
      "metadata": {
        "id": "IoTNKHplN7Dq"
      },
      "source": [
        "### Get the Orders (can try another like feed, items etc.)\n"
      ]
    },
    {
      "cell_type": "code",
      "metadata": {
        "id": "WLvP2IBjwYYq"
      },
      "source": [
        "# The header use to access the orders database\n",
        "common_headers={\n",
        "    'Authorization': \"Basic %s\" % encoded_u,\n",
        "    'WM_SVC.NAME': 'Walmart Marketplace',\n",
        "    'WM_SEC.ACCESS_TOKEN': token_resp.json()['access_token'],\n",
        "    'WM_QOS.CORRELATION_ID': '123456abcdef', #Could use any GUID or UUID\n",
        "    'Accept': 'application/json',\n",
        "    'Host': 'marketplace.walmartapis.com',\n",
        "    #'limit': '199'\n",
        "    #'createdStartDate':'2019-10-18',\n",
        "    #'createdEndDate':'2020-4-18'\n",
        "    }\n"
      ],
      "execution_count": null,
      "outputs": []
    },
    {
      "cell_type": "code",
      "metadata": {
        "id": "OHcniaT3v8g_",
        "outputId": "a5bfd56b-8a06-41f1-c7cd-255b1e46bc41",
        "colab": {
          "base_uri": "https://localhost:8080/",
          "height": 35
        }
      },
      "source": [
        "#Try to have start date and limit for 200 orders\n",
        "order_url = \"https://marketplace.walmartapis.com/v3/orders?createdStartDate=2018-01-25&limit=200\"\n",
        "\n",
        "order_resp=requests.get(order_url, headers=common_headers)\n",
        "order_data=order_resp.json()\n",
        "order_resp.status_code"
      ],
      "execution_count": null,
      "outputs": [
        {
          "output_type": "execute_result",
          "data": {
            "text/plain": [
              "200"
            ]
          },
          "metadata": {
            "tags": []
          },
          "execution_count": 17
        }
      ]
    },
    {
      "cell_type": "code",
      "metadata": {
        "id": "5pNhcXYccjVv"
      },
      "source": [
        "df = pd.DataFrame()\n",
        "for i in list(range(0,len(order_data['list']['elements']['order']))):\n",
        "\n",
        "  order_dict={\n",
        "      'Email_id': order_data['list']['elements']['order'][i]['customerEmailId'],\n",
        "      'customerOrderId': order_data['list']['elements']['order'][i]['customerOrderId'],\n",
        "      'orderDate': time.strftime(\"%Y-%m-%d %H:%M:%S\",time.localtime(order_data['list']['elements']['order'][i]['orderDate']/1000)),\n",
        "      'chargeAmount': order_data['list']['elements']['order'][i]['orderLines']['orderLine'][0]['charges']['charge'][0]['chargeAmount']['amount'],\n",
        "      'currency': order_data['list']['elements']['order'][i]['orderLines']['orderLine'][0]['charges']['charge'][0]['chargeAmount']['currency'],\n",
        "      'chargeName': order_data['list']['elements']['order'][i]['orderLines']['orderLine'][0]['charges']['charge'][0]['chargeName'],\n",
        "      'chargeType': order_data['list']['elements']['order'][i]['orderLines']['orderLine'][0]['charges']['charge'][0]['chargeType'],\n",
        "      'fulfillmentOption': order_data['list']['elements']['order'][i]['orderLines']['orderLine'][0]['fulfillment']['fulfillmentOption'],\n",
        "      'pickUpBy': order_data['list']['elements']['order'][i]['orderLines']['orderLine'][0]['fulfillment']['pickUpBy'],\n",
        "      'pickUpDateTime': time.strftime(\"%Y-%m-%d %H:%M:%S\",time.localtime(order_data['list']['elements']['order'][i]['orderLines']['orderLine'][0]['fulfillment']['pickUpDateTime']/1000)),\n",
        "      'shipMethod': order_data['list']['elements']['order'][i]['orderLines']['orderLine'][0]['fulfillment']['shipMethod'],\n",
        "      'shippingProgramType': order_data['list']['elements']['order'][i]['orderLines']['orderLine'][0]['fulfillment']['shippingProgramType'],\n",
        "      'storeId': order_data['list']['elements']['order'][i]['orderLines']['orderLine'][0]['fulfillment']['storeId'],\n",
        "      'productName': order_data['list']['elements']['order'][i]['orderLines']['orderLine'][0]['item']['productName'],\n",
        "      'sku': order_data['list']['elements']['order'][i]['orderLines']['orderLine'][0]['item']['sku'],\n",
        "      'cancellationReason': order_data['list']['elements']['order'][i]['orderLines']['orderLine'][0]['orderLineStatuses']['orderLineStatus'][0]['cancellationReason'],\n",
        "      'refund': order_data['list']['elements']['order'][i]['orderLines']['orderLine'][0]['refund'],\n",
        "      'order_statusdate': time.strftime(\"%Y-%m-%d %H:%M:%S\",time.localtime(order_data['list']['elements']['order'][i]['orderLines']['orderLine'][0]['statusDate']/1000)),\n",
        "      'purchaseOrderId': order_data['list']['elements']['order'][i]['purchaseOrderId'],\n",
        "      'shiptype': order_data['list']['elements']['order'][i]['shipNode']['type'],\n",
        "      'postalCode': order_data['list']['elements']['order'][i]['shippingInfo']['postalAddress']['postalCode'],\n",
        "      'shipping_city': order_data['list']['elements']['order'][i]['shippingInfo']['postalAddress']['city'],\n",
        "      'state': order_data['list']['elements']['order'][i]['shippingInfo']['postalAddress']['state'],\n",
        "      'shipping_country': order_data['list']['elements']['order'][i]['shippingInfo']['postalAddress']['country']\n",
        "    }\n",
        "  df_ = pd.DataFrame(order_dict, index=[i])\n",
        "  df = pd.concat([df,df_], ignore_index=True)\n",
        "\n",
        "df"
      ],
      "execution_count": null,
      "outputs": []
    },
    {
      "cell_type": "code",
      "metadata": {
        "id": "7UvtxKCne2NB"
      },
      "source": [
        "df.to_csv('order.csv')"
      ],
      "execution_count": null,
      "outputs": []
    }
  ]
}