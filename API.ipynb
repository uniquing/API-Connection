{
  "nbformat": 4,
  "nbformat_minor": 0,
  "metadata": {
    "colab": {
      "name": "API",
      "provenance": [],
      "toc_visible": true,
      "authorship_tag": "ABX9TyMPDaoVKRrNFAs9nUcNSOKc",
      "include_colab_link": true
    },
    "kernelspec": {
      "name": "python3",
      "display_name": "Python 3"
    }
  },
  "cells": [
    {
      "cell_type": "markdown",
      "metadata": {
        "id": "view-in-github",
        "colab_type": "text"
      },
      "source": [
        "<a href=\"https://colab.research.google.com/github/uniquing/API-Connection/blob/main/API.ipynb\" target=\"_parent\"><img src=\"https://colab.research.google.com/assets/colab-badge.svg\" alt=\"Open In Colab\"/></a>"
      ]
    },
    {
      "cell_type": "markdown",
      "metadata": {
        "id": "VLWLfNgsCjfE"
      },
      "source": [
        "### 串接政府AQI空氣資料\n"
      ]
    },
    {
      "cell_type": "code",
      "metadata": {
        "id": "4ju_Rxt8gbRj"
      },
      "source": [
        "# Update the module: requests and lxml\n",
        "pip install -U requests lxml"
      ],
      "execution_count": null,
      "outputs": []
    },
    {
      "cell_type": "code",
      "metadata": {
        "id": "j19CAjRCh0xD"
      },
      "source": [
        "import json\n",
        "# Here try to use different module to request the url\n",
        "import urllib.request as request\n",
        "\n",
        "\n",
        "# src means where the source come from\n",
        "src=\"https://data.epa.gov.tw/api/v1/aqx_p_432?limit=1000&api_key=9be7b239-557b-4c10-9775-78cadfc555e9&format=json\"\n",
        "\n",
        "# Use the google developer tools to see the data is json, then use the module json to load\n",
        "with request.urlopen(src) as response:\n",
        "  data=json.load(response)"
      ],
      "execution_count": 2,
      "outputs": []
    },
    {
      "cell_type": "code",
      "metadata": {
        "id": "OrCcuC0yrrO8"
      },
      "source": [
        "import pandas as pd\n",
        "\n",
        "# According to the date we retrieved what we want\n",
        "# Location, aqi and PM2.5\n",
        "dlist=data['records']\n",
        "counties=[d[\"County\"] for d in dlist]\n",
        "sites=[d[\"SiteName\"] for d in dlist]\n",
        "aqi= [d[\"AQI\"] for d in dlist]\n",
        "pm25=[d[\"PM2.5\"] for d in dlist]\n",
        "\n",
        "# Load the data into dictionary, then to dataframe for late use\n",
        "aq_dict={\n",
        "    \"County\": counties,\n",
        "    \"SiteName\": sites,\n",
        "    \"AQI\": aqi,\n",
        "    \"PM2.5\": pm25 \n",
        "}\n",
        "df=pd.DataFrame(aq_dict)"
      ],
      "execution_count": 5,
      "outputs": []
    },
    {
      "cell_type": "code",
      "metadata": {
        "id": "B9Fx6MKNxf8O",
        "outputId": "76864e60-629d-4987-819c-3a6dc6a1ad4c",
        "colab": {
          "base_uri": "https://localhost:8080/",
          "height": 34
        }
      },
      "source": [
        "import chardet\n",
        "import requests\n",
        "\n",
        "# Use chardet to detect what the data enconded like 'utf-8'\n",
        "# In case if mandarin become garbeld\n",
        "r=requests.get(src)\n",
        "print(chardet.detect(r.content))"
      ],
      "execution_count": null,
      "outputs": [
        {
          "output_type": "stream",
          "text": [
            "{'encoding': 'utf-8', 'confidence': 0.99, 'language': ''}\n"
          ],
          "name": "stdout"
        }
      ]
    },
    {
      "cell_type": "code",
      "metadata": {
        "id": "-1YuZtgzuaa8"
      },
      "source": [
        "# Tranform the df into csv or json fot other use\n",
        "df.to_csv(\"AQI.csv\",encoding=\"utf-8\",index=False)\n",
        "with open(\"AQI.json\",\"w\") as f:\n",
        "  json.dump(aq_dict, f, ensure_ascii=False)"
      ],
      "execution_count": 6,
      "outputs": []
    },
    {
      "cell_type": "markdown",
      "metadata": {
        "id": "Wq9oRVzmWNy9"
      },
      "source": [
        "### Dcard熱門前10\n"
      ]
    },
    {
      "cell_type": "code",
      "metadata": {
        "id": "JRiaTTyyaehn"
      },
      "source": [
        "import requests\n",
        "import re\n",
        "# Use BeautifulSoup on html type website\n",
        "# Just like lxml on XML type and module json on json type\n",
        "from bs4 import BeautifulSoup\n",
        "\n",
        "dcard_topic_page = 'https://www.dcard.tw/f'\n",
        "resp = requests.get(dcard_topic_page)\n",
        "soup = BeautifulSoup(resp.text, 'html.parser')"
      ],
      "execution_count": 7,
      "outputs": []
    },
    {
      "cell_type": "code",
      "metadata": {
        "id": "rvkAPsqeauYf",
        "outputId": "29c31592-7dc3-4c1e-c857-3372496a2b02",
        "colab": {
          "base_uri": "https://localhost:8080/",
          "height": 195
        }
      },
      "source": [
        "# Use the CSSselector to help me locate the content I want\n",
        "Dcard_title_css = '.ebwnQU'\n",
        "title_tag = soup.select(Dcard_title_css)\n",
        "title_list = [str(i)+\".\"+e.text for i, e in enumerate(title_tag) if (i<=9)]\n",
        "title_list"
      ],
      "execution_count": 26,
      "outputs": [
        {
          "output_type": "execute_result",
          "data": {
            "text/plain": [
              "['0.#更 強者我朋友 一年內從87瘦到56',\n",
              " '1.我媽在餐廳撩了服務生，結果..',\n",
              " '2.不想賺髒錢，我辭職了！',\n",
              " '3.更/是我瘋了 還是整間公司都瘋了',\n",
              " '4.說女友跟狗一樣被分手….',\n",
              " '5.#更新一張被已讀/莫名其妙自以為全世界都圍著她轉的網紅？',\n",
              " '6.Lisa成為MAC全球代言人💗',\n",
              " '7.冰旋風被加爆真的好爽',\n",
              " '8.一定要看！  超準！ 12星座連自己都討厭的缺點',\n",
              " '9.初次見面不能上床？']"
            ]
          },
          "metadata": {
            "tags": []
          },
          "execution_count": 26
        }
      ]
    },
    {
      "cell_type": "markdown",
      "metadata": {
        "id": "aia-5bQqWXla"
      },
      "source": [
        "### 有API的爬蟲"
      ]
    },
    {
      "cell_type": "code",
      "metadata": {
        "id": "YHkboH3xbyEQ"
      },
      "source": [
        "import requests\n",
        "import json\n",
        "from bs4 import BeautifulSoup\n",
        "import pandas as pd\n",
        "import re\n",
        "from time import sleep\n",
        "from datetime import datetime"
      ],
      "execution_count": 27,
      "outputs": []
    },
    {
      "cell_type": "code",
      "metadata": {
        "id": "LQymYeEfcAiA"
      },
      "source": [
        "# User-Agent to simulate real human surf Internet\n",
        "# Cookie infromation be used for avoiding ip lock\n",
        "# Or you can use sleep method in request module.\n",
        "\n",
        "headers = {'cookie': 'ECC=GoogleBot',\n",
        "           'User-Agent': 'Mozilla/5.0 (Windows NT 10.0; Win64; x64) AppleWebKit/537.36 (KHTML, like Gecko) Chrome/73.0.3683.103 Safari/537.36'}\n"
      ],
      "execution_count": 28,
      "outputs": []
    },
    {
      "cell_type": "code",
      "metadata": {
        "id": "Lh14ibnie_xh"
      },
      "source": [
        "# query try to put the thing you want to search \n",
        "# and pages for how mant pages you want to load\n",
        "query='macbook'\n",
        "pages=10"
      ],
      "execution_count": 29,
      "outputs": []
    },
    {
      "cell_type": "code",
      "metadata": {
        "id": "8ukydQn1c4fq",
        "outputId": "73120b8f-14c9-4c44-e0c3-f0a5d855f97e",
        "colab": {
          "base_uri": "https://localhost:8080/",
          "height": 195
        }
      },
      "source": [
        "#Pchome has two api, this v3.3 help you find the product_id\n",
        "Id_list=[]\n",
        "for page in list(range(1,pages+1)):\n",
        "  url='https://ecshweb.pchome.com.tw/search/v3.3/all/results?q={}&page={}&sort=sale/dc'.format(query,page)\n",
        "  resp=requests.get(url, headers=headers)\n",
        "  for e in resp.json()['prods']:\n",
        "    Id_list.append(e['Id'])\n",
        "  print(\"There are {} products in list, when p.{}\".format(len(Id_list),page))\n"
      ],
      "execution_count": 30,
      "outputs": [
        {
          "output_type": "stream",
          "text": [
            "There are 20 products in list, when p.1\n",
            "There are 40 products in list, when p.2\n",
            "There are 60 products in list, when p.3\n",
            "There are 80 products in list, when p.4\n",
            "There are 100 products in list, when p.5\n",
            "There are 120 products in list, when p.6\n",
            "There are 140 products in list, when p.7\n",
            "There are 160 products in list, when p.8\n",
            "There are 180 products in list, when p.9\n",
            "There are 200 products in list, when p.10\n"
          ],
          "name": "stdout"
        }
      ]
    },
    {
      "cell_type": "code",
      "metadata": {
        "id": "DGBH1pqcjZR9",
        "outputId": "a11ea6fa-f3d6-4e4e-8271-e85b6db9d2b4",
        "colab": {
          "base_uri": "https://localhost:8080/",
          "height": 106
        }
      },
      "source": [
        "# You can use product_id on another api to exact what the produt like \n",
        "Id_list[0:5]"
      ],
      "execution_count": 31,
      "outputs": [
        {
          "output_type": "execute_result",
          "data": {
            "text/plain": [
              "['DYAJEX-1900AOLWE',\n",
              " 'DYAJCS-1900AQM6V',\n",
              " 'DYAJET-1900ARL8U',\n",
              " 'DYAJEX-1900APCGM',\n",
              " 'DYAJCS-1900AQM5G']"
            ]
          },
          "metadata": {
            "tags": []
          },
          "execution_count": 31
        }
      ]
    },
    {
      "cell_type": "markdown",
      "metadata": {
        "id": "VCIh1DLz8A6m"
      },
      "source": [
        "### Try weatherstack api"
      ]
    },
    {
      "cell_type": "code",
      "metadata": {
        "id": "-1NsHA3_8TnB"
      },
      "source": [
        "# This is the open api for world weather\n",
        "# You can register for free and get your own API_key\n",
        "\n",
        "import requests\n",
        "import json\n",
        "from bs4 import BeautifulSoup\n",
        "import pandas as pd\n",
        "import re\n",
        "from time import sleep\n",
        "from datetime import datetime\n",
        "\n",
        "# The query would be the city I want to know\n",
        "API_key='your own key' #Insert your's here\n",
        "querys=['Taipei','Tokyo','Seoul','Bejing','Singapore']\n"
      ],
      "execution_count": 33,
      "outputs": []
    },
    {
      "cell_type": "code",
      "metadata": {
        "id": "kBDgJZoJ8-5R",
        "outputId": "8b26c531-7a85-4710-b6ca-c7731f6b2f6e",
        "colab": {
          "base_uri": "https://localhost:8080/",
          "height": 106
        }
      },
      "source": [
        "df=pd.DataFrame()\n",
        "for q in querys:\n",
        "  url=\"http://api.weatherstack.com/current?access_key={}&query={}\".format(API_key,q)\n",
        "  resp=requests.get(url)\n",
        "  resp_=resp.json()\n",
        "  dict_={\n",
        "        'country':resp_['location']['country'],\n",
        "        'lat':resp_['location']['lat'],\n",
        "        'lon':resp_['location']['lon'],\n",
        "        'wdescription':resp_['current']['weather_descriptions'],\n",
        "        'wcode':resp_['current']['weather_code'],\n",
        "        'temprature':resp_['current']['temperature'],\n",
        "        'pressure':resp_['current']['pressure'],\n",
        "        'humidity':resp_['current']['humidity'],\n",
        "        'feelslike':resp_['current']['feelslike'],\n",
        "        'cloudcover':resp_['current']['cloudcover'],\n",
        "        'observation_time':resp_['current']['observation_time'],\n",
        "        'localtime':resp_['location']['localtime']\n",
        "        }\n",
        "  df_ = pd.DataFrame(dict_)\n",
        "  df = pd.concat([df,df_], ignore_index=True)\n",
        "  print(\"Scraping {} data\".format(q))\n"
      ],
      "execution_count": 34,
      "outputs": [
        {
          "output_type": "stream",
          "text": [
            "Scraping Taipei data\n",
            "Scraping Tokyo data\n",
            "Scraping Seoul data\n",
            "Scraping Bejing data\n",
            "Scraping Singapore data\n"
          ],
          "name": "stdout"
        }
      ]
    },
    {
      "cell_type": "code",
      "metadata": {
        "id": "DogaPOZx-d9h",
        "outputId": "b543a120-8003-4467-e81d-d3c01c0f7451",
        "colab": {
          "base_uri": "https://localhost:8080/",
          "height": 298
        }
      },
      "source": [
        "df"
      ],
      "execution_count": 35,
      "outputs": [
        {
          "output_type": "execute_result",
          "data": {
            "text/html": [
              "<div>\n",
              "<style scoped>\n",
              "    .dataframe tbody tr th:only-of-type {\n",
              "        vertical-align: middle;\n",
              "    }\n",
              "\n",
              "    .dataframe tbody tr th {\n",
              "        vertical-align: top;\n",
              "    }\n",
              "\n",
              "    .dataframe thead th {\n",
              "        text-align: right;\n",
              "    }\n",
              "</style>\n",
              "<table border=\"1\" class=\"dataframe\">\n",
              "  <thead>\n",
              "    <tr style=\"text-align: right;\">\n",
              "      <th></th>\n",
              "      <th>country</th>\n",
              "      <th>lat</th>\n",
              "      <th>lon</th>\n",
              "      <th>wdescription</th>\n",
              "      <th>wcode</th>\n",
              "      <th>temprature</th>\n",
              "      <th>pressure</th>\n",
              "      <th>humidity</th>\n",
              "      <th>feelslike</th>\n",
              "      <th>cloudcover</th>\n",
              "      <th>observation_time</th>\n",
              "      <th>localtime</th>\n",
              "    </tr>\n",
              "  </thead>\n",
              "  <tbody>\n",
              "    <tr>\n",
              "      <th>0</th>\n",
              "      <td>Taiwan</td>\n",
              "      <td>25.039</td>\n",
              "      <td>121.525</td>\n",
              "      <td>Light Drizzle</td>\n",
              "      <td>296</td>\n",
              "      <td>25</td>\n",
              "      <td>1013</td>\n",
              "      <td>89</td>\n",
              "      <td>27</td>\n",
              "      <td>75</td>\n",
              "      <td>08:44 AM</td>\n",
              "      <td>2020-10-20 16:44</td>\n",
              "    </tr>\n",
              "    <tr>\n",
              "      <th>1</th>\n",
              "      <td>Japan</td>\n",
              "      <td>35.690</td>\n",
              "      <td>139.692</td>\n",
              "      <td>Partly cloudy</td>\n",
              "      <td>116</td>\n",
              "      <td>21</td>\n",
              "      <td>1023</td>\n",
              "      <td>38</td>\n",
              "      <td>21</td>\n",
              "      <td>10</td>\n",
              "      <td>08:44 AM</td>\n",
              "      <td>2020-10-20 17:44</td>\n",
              "    </tr>\n",
              "    <tr>\n",
              "      <th>2</th>\n",
              "      <td>South Korea</td>\n",
              "      <td>37.566</td>\n",
              "      <td>127.000</td>\n",
              "      <td>Sunny</td>\n",
              "      <td>113</td>\n",
              "      <td>25</td>\n",
              "      <td>1025</td>\n",
              "      <td>30</td>\n",
              "      <td>25</td>\n",
              "      <td>0</td>\n",
              "      <td>08:44 AM</td>\n",
              "      <td>2020-10-20 17:44</td>\n",
              "    </tr>\n",
              "    <tr>\n",
              "      <th>3</th>\n",
              "      <td>Indonesia</td>\n",
              "      <td>-7.491</td>\n",
              "      <td>110.986</td>\n",
              "      <td>Cloudy</td>\n",
              "      <td>119</td>\n",
              "      <td>32</td>\n",
              "      <td>1009</td>\n",
              "      <td>49</td>\n",
              "      <td>36</td>\n",
              "      <td>81</td>\n",
              "      <td>08:44 AM</td>\n",
              "      <td>2020-10-20 15:44</td>\n",
              "    </tr>\n",
              "    <tr>\n",
              "      <th>4</th>\n",
              "      <td>Singapore</td>\n",
              "      <td>1.293</td>\n",
              "      <td>103.856</td>\n",
              "      <td>Partly cloudy</td>\n",
              "      <td>116</td>\n",
              "      <td>29</td>\n",
              "      <td>1006</td>\n",
              "      <td>79</td>\n",
              "      <td>32</td>\n",
              "      <td>75</td>\n",
              "      <td>08:44 AM</td>\n",
              "      <td>2020-10-20 16:44</td>\n",
              "    </tr>\n",
              "  </tbody>\n",
              "</table>\n",
              "</div>"
            ],
            "text/plain": [
              "       country     lat      lon  ... cloudcover  observation_time         localtime\n",
              "0       Taiwan  25.039  121.525  ...         75          08:44 AM  2020-10-20 16:44\n",
              "1        Japan  35.690  139.692  ...         10          08:44 AM  2020-10-20 17:44\n",
              "2  South Korea  37.566  127.000  ...          0          08:44 AM  2020-10-20 17:44\n",
              "3    Indonesia  -7.491  110.986  ...         81          08:44 AM  2020-10-20 15:44\n",
              "4    Singapore   1.293  103.856  ...         75          08:44 AM  2020-10-20 16:44\n",
              "\n",
              "[5 rows x 12 columns]"
            ]
          },
          "metadata": {
            "tags": []
          },
          "execution_count": 35
        }
      ]
    }
  ]
}